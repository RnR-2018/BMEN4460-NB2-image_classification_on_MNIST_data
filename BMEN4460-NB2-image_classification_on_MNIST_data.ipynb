{
 "cells": [
  {
   "cell_type": "markdown",
   "metadata": {},
   "source": [
    "# Simple Image Classification Using the MNIST Dataset\n",
    "Nanyan \"Rosalie\" Zhu and Chen \"Raphael\" Liu\n",
    "\n",
    "This notebook belongs to this repository [\"RnR-2018/BMEN4460-NB2-image_classification_on_MNIST_data\"](https://github.com/RnR-2018/BMEN4460-NB2-image_classification_on_MNIST_data) and its parent repository [\"RnR-2018/Deep-learning-with-PyTorch-and-GCP\"](https://github.com/RnR-2018/Deep-learning-with-PyTorch-and-GCP).\n",
    "\n",
    "This notebook is inspired by and largely adapted from [this GitHub repository](https://github.com/jkotra/mnist-pytorch)."
   ]
  },
  {
   "cell_type": "markdown",
   "metadata": {},
   "source": [
    "### Import the necessary packages."
   ]
  },
  {
   "cell_type": "code",
   "execution_count": 1,
   "metadata": {},
   "outputs": [],
   "source": [
    "import numpy as np\n",
    "import matplotlib.pyplot as plt\n",
    "import seaborn as sns\n",
    "\n",
    "import torch\n",
    "import torch.nn as nn\n",
    "import torch.nn.functional as F\n",
    "from torch.optim import Adam, SGD\n",
    "from torch.utils.data import TensorDataset, DataLoader\n",
    "\n",
    "import tensorflow.keras.datasets.mnist as MNIST\n",
    "\n",
    "from sklearn.model_selection import train_test_split\n",
    "from sklearn.metrics import confusion_matrix, accuracy_score\n",
    "import warnings"
   ]
  },
  {
   "cell_type": "markdown",
   "metadata": {},
   "source": [
    "### Check GPU availability (should be False if you run the CPU VM and True if you run the GPU VM)."
   ]
  },
  {
   "cell_type": "code",
   "execution_count": 2,
   "metadata": {},
   "outputs": [
    {
     "name": "stdout",
     "output_type": "stream",
     "text": [
      "GPU available: True\n"
     ]
    }
   ],
   "source": [
    "cuda = torch.cuda.is_available()\n",
    "print(\"GPU available:\", cuda)"
   ]
  },
  {
   "cell_type": "markdown",
   "metadata": {},
   "source": [
    "### Set the random seed for reproducibility."
   ]
  },
  {
   "cell_type": "code",
   "execution_count": 3,
   "metadata": {},
   "outputs": [],
   "source": [
    "torch.manual_seed(4460)\n",
    "np.random.seed(4460)"
   ]
  },
  {
   "cell_type": "markdown",
   "metadata": {},
   "source": [
    "### Download the MNIST handwritten digits dataset.\n",
    "\n",
    "It is designed to have a 60k-image train set and a 10k-image test set. We are not going to use all of them for this tutorial because that will eat up quite a bit of memory."
   ]
  },
  {
   "cell_type": "code",
   "execution_count": 4,
   "metadata": {},
   "outputs": [],
   "source": [
    "(image_MNIST_train_set, label_MNIST_train_set), (image_MNIST_test_set, label_MNIST_test_set) = MNIST.load_data()"
   ]
  },
  {
   "cell_type": "markdown",
   "metadata": {},
   "source": [
    "#### Display some sample images and labels."
   ]
  },
  {
   "cell_type": "code",
   "execution_count": 5,
   "metadata": {},
   "outputs": [
    {
     "data": {
      "image/png": "[encoded data removed]",
      "text/plain": [
       "<Figure size 400x600 with 24 Axes>"
      ]
     },
     "metadata": {},
     "output_type": "display_data"
    }
   ],
   "source": [
    "row = 4\n",
    "col = 6\n",
    "fig = plt.figure(figsize = (row, col), dpi = 100)\n",
    "\n",
    "for image_index in range(1, row * col + 1):\n",
    "    image = image_MNIST_test_set[image_index, :, :]\n",
    "    ax = fig.add_subplot(row, col, image_index)\n",
    "    ax.set_xticks([])\n",
    "    ax.set_yticks([])\n",
    "    ax.title.set_text(str(label_MNIST_test_set[image_index]))\n",
    "    plt.imshow(image, cmap = 'gray')\n",
    "\n",
    "plt.show()"
   ]
  },
  {
   "cell_type": "markdown",
   "metadata": {},
   "source": [
    "### We have 70k images in total, but we will only use a subset of it for this tutorial.\n",
    "\n",
    "#### Let's just use what MNIST originally allocated as the test set as our entire dataset (N = 10k) and perform a 8:1:1 train:validation:test split."
   ]
  },
  {
   "cell_type": "code",
   "execution_count": 6,
   "metadata": {},
   "outputs": [
    {
     "name": "stdout",
     "output_type": "stream",
     "text": [
      "Images: train 8000, validation 1000, test 1000 \n",
      "Labels: train 8000, validation 1000, test 1000\n"
     ]
    }
   ],
   "source": [
    "# Split the 10000 MNIST test set into our train set (N = 8e3) and validation+test set (N = 2e3) at an 8:2 ratio.\n",
    "indices_train, indices_validation_and_test = train_test_split(range(len(image_MNIST_test_set)), test_size = 0.2)\n",
    "image_train = image_MNIST_test_set[indices_train, :, :]\n",
    "label_train = label_MNIST_test_set[indices_train]\n",
    "image_validation_and_test = image_MNIST_test_set[indices_validation_and_test, :, :]\n",
    "label_validation_and_test = label_MNIST_test_set[indices_validation_and_test]\n",
    "\n",
    "# Split the validation+test set into the validation set (N = 5e3) and the test set (N = 5e3).\n",
    "# Note that we are using the package \"train_test_split\" but what we are actually doing here is validation test split.\n",
    "indices_validation, indices_test = train_test_split(range(len(image_validation_and_test)), test_size = 0.5)\n",
    "image_validation = image_validation_and_test[indices_validation, :, :]\n",
    "label_validation = label_validation_and_test[indices_validation]\n",
    "image_test = image_validation_and_test[indices_test, :, :]\n",
    "label_test = label_validation_and_test[indices_test]\n",
    "\n",
    "print('Images: train %d, validation %d, test %d \\nLabels: train %d, validation %d, test %d' % \\\n",
    "      (len(image_train), len(image_validation), len(image_test), len(label_train), len(label_validation), len(label_test)))"
   ]
  },
  {
   "cell_type": "markdown",
   "metadata": {},
   "source": [
    "### Reformat the images and labels so that they can be fed into the data loader.\n",
    "Normally you would construct a validation loader and a test loader similar to how we construct the train loader, but for this case since the validation and test set only consists of 1000 28$\\times$28 images each, we can just get away with not using a data loader at all."
   ]
  },
  {
   "cell_type": "code",
   "execution_count": 7,
   "metadata": {},
   "outputs": [],
   "source": [
    "image_train_torch = torch.from_numpy(image_train).type(torch.FloatTensor).view(-1, 1, 28, 28)\n",
    "label_train_torch = torch.from_numpy(label_train).type(torch.LongTensor)\n",
    "\n",
    "image_validation_torch = torch.from_numpy(image_validation).type(torch.FloatTensor).view(-1, 1, 28, 28)\n",
    "label_validation_torch = torch.from_numpy(label_validation).type(torch.LongTensor)\n",
    "\n",
    "image_test_torch = torch.from_numpy(image_test).type(torch.FloatTensor).view(-1, 1, 28, 28)\n",
    "label_test_torch = torch.from_numpy(label_test).type(torch.LongTensor)\n",
    "\n",
    "train_data = TensorDataset(image_train_torch, label_train_torch)\n",
    "train_loader = DataLoader(train_data, batch_size = 1000)"
   ]
  },
  {
   "cell_type": "markdown",
   "metadata": {},
   "source": [
    "### Build our classification network.\n",
    "\n",
    "This architecture comes from [this GitHub repository](https://github.com/floydhub/mnist).\n",
    "\n",
    "<img src=\"data/MNIST_CNN.PNG\" width=\"1200\" align=\"center\"/>"
   ]
  },
  {
   "cell_type": "code",
   "execution_count": 8,
   "metadata": {},
   "outputs": [
    {
     "name": "stdout",
     "output_type": "stream",
     "text": [
      "Model(\n",
      "  (conv1): Conv2d(1, 20, kernel_size=(5, 5), stride=(1, 1))\n",
      "  (conv2): Conv2d(20, 50, kernel_size=(5, 5), stride=(1, 1))\n",
      "  (fc1): Linear(in_features=800, out_features=500, bias=True)\n",
      "  (fc2): Linear(in_features=500, out_features=10, bias=True)\n",
      ")\n"
     ]
    }
   ],
   "source": [
    "# Formula to calculate shape as we go through layer by layer = [(X - F + 2P)/S] + 1\n",
    "# Here,\n",
    "# X = Width / Height\n",
    "# F = Kernel size\n",
    "# P = Padding\n",
    "# S = Strides (default = 1)\n",
    "\n",
    "# Our input to the first layer is going to be [batchsize, 1, 28, 28]\n",
    "# substitute, =[(28 - 5 + 2(0))/1] + 1\n",
    "#             =[(23)/1] + 1\n",
    "#             =23 + 1\n",
    "#             =24\n",
    "\n",
    "\n",
    "class Model(nn.Module):\n",
    "    \"\"\"ConvNet -> Max_Pool -> RELU -> ConvNet -> Max_Pool -> RELU -> FC -> RELU -> FC -> SOFTMAX\"\"\"\n",
    "    def __init__(self):\n",
    "        super(Model, self).__init__()\n",
    "        self.conv1 = nn.Conv2d(1, 20, 5, 1)\n",
    "        self.conv2 = nn.Conv2d(20, 50, 5, 1)\n",
    "        self.fc1 = nn.Linear(4 * 4 * 50, 500)\n",
    "        self.fc2 = nn.Linear(500, 10)\n",
    "\n",
    "    def forward(self, x):\n",
    "        x = F.relu(self.conv1(x))\n",
    "        x = F.max_pool2d(x, 2, 2)\n",
    "        x = F.relu(self.conv2(x))\n",
    "        x = F.max_pool2d(x, 2, 2)\n",
    "        x = x.view(-1, 4 * 4 * 50)\n",
    "        x = F.relu(self.fc1(x))\n",
    "        x = self.fc2(x)\n",
    "        return F.log_softmax(x, dim = 1)\n",
    "\n",
    "our_CNN = Model()\n",
    "\n",
    "# If GPU available, build the model on GPU.\n",
    "if cuda:\n",
    "    our_CNN.cuda()\n",
    "\n",
    "print(our_CNN)"
   ]
  },
  {
   "cell_type": "markdown",
   "metadata": {},
   "source": [
    "#### Define our optimizer."
   ]
  },
  {
   "cell_type": "code",
   "execution_count": 9,
   "metadata": {},
   "outputs": [],
   "source": [
    "# define our optimizer\n",
    "optimizer = SGD(our_CNN.parameters(), lr = 0.001)"
   ]
  },
  {
   "cell_type": "markdown",
   "metadata": {},
   "source": [
    "#### Train our CNN for classification."
   ]
  },
  {
   "cell_type": "code",
   "execution_count": 10,
   "metadata": {},
   "outputs": [
    {
     "name": "stdout",
     "output_type": "stream",
     "text": [
      "Epoch: 0 | train_loss: 11.582887202501297 | validation_loss: 10.329493820667267\n",
      "Epoch: 1 | train_loss: 1.8729281723499298 | validation_loss: 1.743412509560585\n",
      "Epoch: 2 | train_loss: 1.1926656290888786 | validation_loss: 1.1731188148260117\n",
      "Epoch: 3 | train_loss: 0.8539450392127037 | validation_loss: 0.8757211044430733\n",
      "Epoch: 4 | train_loss: 0.6783207580447197 | validation_loss: 0.7097573354840279\n",
      "Epoch: 5 | train_loss: 0.5732020363211632 | validation_loss: 0.6053303927183151\n",
      "Epoch: 6 | train_loss: 0.5016909278929234 | validation_loss: 0.5324979647994041\n",
      "Epoch: 7 | train_loss: 0.4498695656657219 | validation_loss: 0.4794774278998375\n",
      "Epoch: 8 | train_loss: 0.4102873206138611 | validation_loss: 0.4393930025398731\n",
      "Epoch: 9 | train_loss: 0.3786005973815918 | validation_loss: 0.40761347115039825\n",
      "Epoch: 10 | train_loss: 0.35249166190624237 | validation_loss: 0.3819454498589039\n",
      "Epoch: 11 | train_loss: 0.3305530995130539 | validation_loss: 0.36057497188448906\n",
      "Epoch: 12 | train_loss: 0.3118602782487869 | validation_loss: 0.3425064645707607\n",
      "Epoch: 13 | train_loss: 0.29549588449299335 | validation_loss: 0.3266333341598511\n",
      "Epoch: 14 | train_loss: 0.28099361807107925 | validation_loss: 0.3126639910042286\n",
      "Epoch: 15 | train_loss: 0.26809071376919746 | validation_loss: 0.30032457411289215\n",
      "Epoch: 16 | train_loss: 0.25650113821029663 | validation_loss: 0.2891380861401558\n",
      "Epoch: 17 | train_loss: 0.2460408378392458 | validation_loss: 0.2791547439992428\n",
      "Epoch: 18 | train_loss: 0.2364561017602682 | validation_loss: 0.2700480818748474\n",
      "Epoch: 19 | train_loss: 0.22757176123559475 | validation_loss: 0.26178256422281265\n",
      "Epoch: 20 | train_loss: 0.21940848231315613 | validation_loss: 0.2542788237333298\n",
      "Epoch: 21 | train_loss: 0.21178133599460125 | validation_loss: 0.24737436324357986\n",
      "Epoch: 22 | train_loss: 0.20467178151011467 | validation_loss: 0.2409058902412653\n",
      "Epoch: 23 | train_loss: 0.19802922382950783 | validation_loss: 0.23487228527665138\n",
      "Epoch: 24 | train_loss: 0.19177550822496414 | validation_loss: 0.22920444048941135\n",
      "Epoch: 25 | train_loss: 0.18594948016107082 | validation_loss: 0.22405219078063965\n",
      "Epoch: 26 | train_loss: 0.18046626262366772 | validation_loss: 0.21927041374146938\n",
      "Epoch: 27 | train_loss: 0.17529835738241673 | validation_loss: 0.21483850479125977\n",
      "Epoch: 28 | train_loss: 0.1704386044293642 | validation_loss: 0.21065774001181126\n",
      "Epoch: 29 | train_loss: 0.16582974512130022 | validation_loss: 0.20667787455022335\n"
     ]
    }
   ],
   "source": [
    "EPOCHS = 30\n",
    "\n",
    "train_epoch_loss = []\n",
    "validation_epoch_loss = []\n",
    "\n",
    "for epoch in range(EPOCHS):\n",
    "    train_loss = []\n",
    "    validation_loss = []\n",
    "\n",
    "    for batch_index, (train_image, train_label) in enumerate(train_loader):\n",
    "        # If GPU is available.\n",
    "        if cuda:\n",
    "            #######################################################\n",
    "            ####################### Train #########################\n",
    "            #######################################################\n",
    "            # Set the model to train mode so that the parameters can be updated.\n",
    "            our_CNN.train()\n",
    "\n",
    "            train_label_predicted = our_CNN(train_image.cuda())\n",
    "\n",
    "            # compute the loss\n",
    "            loss = F.cross_entropy(train_label_predicted, train_label.cuda())\n",
    "            train_loss.append(loss.cpu().data.item())\n",
    "\n",
    "            # reset the gradient\n",
    "            optimizer.zero_grad()\n",
    "            # backpropagate the loss\n",
    "            loss.backward()\n",
    "            # update the parameters\n",
    "            optimizer.step()\n",
    "\n",
    "            #######################################################\n",
    "            ###################### Validation #####################\n",
    "            #######################################################\n",
    "            # Set the model to evaluation mode so that parameters are fixed.\n",
    "            our_CNN.eval()\n",
    "\n",
    "            validation_label_predicted = our_CNN(image_validation_torch.cuda())\n",
    "\n",
    "            loss = F.cross_entropy(validation_label_predicted, label_validation_torch.cuda())\n",
    "            validation_loss.append(loss.cpu().data.item())\n",
    "        \n",
    "        # If GPU is not available.\n",
    "        else:\n",
    "            #######################################################\n",
    "            ####################### Train #########################\n",
    "            #######################################################\n",
    "            # Set the model to train mode so that the parameters can be updated.\n",
    "            our_CNN.train()\n",
    "\n",
    "            train_label_predicted = our_CNN(train_image)\n",
    "\n",
    "            # compute the loss\n",
    "            loss = F.cross_entropy(train_label_predicted, train_label)\n",
    "            train_loss.append(loss.cpu().data.item())\n",
    "\n",
    "            # reset the gradient\n",
    "            optimizer.zero_grad()\n",
    "            # backpropagate the loss\n",
    "            loss.backward()\n",
    "            # update the parameters\n",
    "            optimizer.step()\n",
    "\n",
    "            #######################################################\n",
    "            ###################### Validation #####################\n",
    "            #######################################################\n",
    "            # Set the model to evaluation mode so that parameters are fixed.\n",
    "            our_CNN.eval()\n",
    "\n",
    "            validation_label_predicted = our_CNN(image_validation_torch)\n",
    "\n",
    "            loss = F.cross_entropy(validation_label_predicted, label_validation_torch)\n",
    "            validation_loss.append(loss.cpu().data.item())\n",
    "\n",
    "    train_epoch_loss.append(np.mean(train_loss))\n",
    "    validation_epoch_loss.append(np.mean(validation_loss))\n",
    "    \n",
    "    # save models\n",
    "    torch.save(our_CNN.state_dict(), './saved_models/checkpoint_epoch_%s.pth' % (epoch))\n",
    "\n",
    "    print(\"Epoch: {} | train_loss: {} | validation_loss: {}\".format(epoch, train_epoch_loss[-1], validation_epoch_loss[-1]))"
   ]
  },
  {
   "cell_type": "markdown",
   "metadata": {},
   "source": [
    "### Explanation on train, validation and test split.\n",
    "While you are waiting for your CNN to be trained, let's look back on what it means to and why we need to perform a train/validation/test split.\n",
    "\n",
    "- The train set is quite straightforward: you allocate a portion of the data to train your model.\n",
    "- The test set is a set of data you keep to yourself and make sure the model doesn't have access to. You need that set of data to evaluate the performance of your model once it is ready to be challenged.\n",
    "- The validation set is a set of data you quiz your model before it is ready for the \"final exam\" given by the test set. It gives you an idea how well the model is likely to perform on an unseen set of data.\n",
    "\n",
    "In an ideal case, you design and train your model using the train data, adjust the hyperparameters (learning rate, etc.) and decide on when to stop the training (either by adjusting # epoch or by setting automated criteria for early stop) along with other intelligent approaches to make sure the model is likely to generalize well, and then test its performance on the test data."
   ]
  },
  {
   "cell_type": "markdown",
   "metadata": {},
   "source": [
    "#### Draw the train loss and validation loss curves."
   ]
  },
  {
   "cell_type": "code",
   "execution_count": 11,
   "metadata": {},
   "outputs": [
    {
     "data": {
      "image/png": "[encoded data removed]",
      "text/plain": [
       "<Figure size 1000x400 with 1 Axes>"
      ]
     },
     "metadata": {
      "needs_background": "light"
     },
     "output_type": "display_data"
    }
   ],
   "source": [
    "plt.figure(figsize = (5, 2), dpi = 200)\n",
    "plt.plot(train_epoch_loss, label = 'training loss')\n",
    "plt.plot(validation_epoch_loss, label = 'validation loss')\n",
    "plt.legend(loc = 'upper right');"
   ]
  },
  {
   "cell_type": "markdown",
   "metadata": {},
   "source": [
    "#### Let's check at which epoch the model performs the best on the validation set."
   ]
  },
  {
   "cell_type": "code",
   "execution_count": 12,
   "metadata": {},
   "outputs": [
    {
     "name": "stdout",
     "output_type": "stream",
     "text": [
      "best epoch:  29\n"
     ]
    }
   ],
   "source": [
    "best_epoch = np.argmin(validation_epoch_loss)\n",
    "print('best epoch: ', best_epoch)"
   ]
  },
  {
   "cell_type": "markdown",
   "metadata": {},
   "source": [
    "#### We will call that as our best model and use that for inference on the test set."
   ]
  },
  {
   "cell_type": "code",
   "execution_count": 13,
   "metadata": {},
   "outputs": [
    {
     "name": "stdout",
     "output_type": "stream",
     "text": [
      "odict_keys(['conv1.weight', 'conv1.bias', 'conv2.weight', 'conv2.bias', 'fc1.weight', 'fc1.bias', 'fc2.weight', 'fc2.bias'])\n"
     ]
    },
    {
     "data": {
      "text/plain": [
       "<All keys matched successfully>"
      ]
     },
     "execution_count": 13,
     "metadata": {},
     "output_type": "execute_result"
    }
   ],
   "source": [
    "state_dict = torch.load('./saved_models/checkpoint_epoch_%s.pth' % (best_epoch))\n",
    "print(state_dict.keys())\n",
    "our_CNN.load_state_dict(state_dict)"
   ]
  },
  {
   "cell_type": "markdown",
   "metadata": {},
   "source": [
    "## Predict the labels on the test set.\n",
    "\n",
    "### 1. Do that on a sample image."
   ]
  },
  {
   "cell_type": "code",
   "execution_count": 14,
   "metadata": {},
   "outputs": [],
   "source": [
    "def view_classify(image, probabilities, version = \"MNIST\"):\n",
    "    ''' Function for viewing an image and it's predicted classes.\n",
    "    '''\n",
    "    probabilities = probabilities.data.numpy().squeeze()\n",
    "\n",
    "    fig, (ax1, ax2) = plt.subplots(figsize = (6, 9), ncols = 2)\n",
    "    ax1.imshow(image.resize_(1, 28, 28).numpy().squeeze(), cmap = 'gray')\n",
    "    ax1.set_title('Original Image')\n",
    "    ax1.axis('off')\n",
    "    ax2.bar(np.arange(10), probabilities)\n",
    "    ax2.set_aspect(10)\n",
    "    ax2.set_xticks(np.arange(10))\n",
    "        \n",
    "    ax2.set_title('Class Probability')\n",
    "    ax2.set_ylim(0, 1.1)\n",
    "\n",
    "    plt.tight_layout()"
   ]
  },
  {
   "cell_type": "code",
   "execution_count": 15,
   "metadata": {},
   "outputs": [
    {
     "data": {
      "text/plain": [
       "torch.Size([1000, 1, 28, 28])"
      ]
     },
     "execution_count": 15,
     "metadata": {},
     "output_type": "execute_result"
    }
   ],
   "source": [
    "image_test_torch.shape"
   ]
  },
  {
   "cell_type": "code",
   "execution_count": 16,
   "metadata": {},
   "outputs": [],
   "source": [
    "our_CNN.eval()\n",
    "\n",
    "sample_test_image = image_test_torch[0, :, :, :][np.newaxis, :, :, :]\n",
    "\n",
    "if cuda:\n",
    "    sample_prediction = our_CNN(sample_test_image.cuda())\n",
    "else:\n",
    "    sample_prediction = our_CNN(sample_test_image)"
   ]
  },
  {
   "cell_type": "code",
   "execution_count": 17,
   "metadata": {},
   "outputs": [
    {
     "data": {
      "image/png": "[encoded data removed]",
      "text/plain": [
       "<Figure size 432x648 with 2 Axes>"
      ]
     },
     "metadata": {
      "needs_background": "light"
     },
     "output_type": "display_data"
    }
   ],
   "source": [
    "warnings.filterwarnings(\"ignore\")\n",
    "sns.reset_orig()\n",
    "\n",
    "if cuda:\n",
    "    view_classify(sample_test_image, 2 ** sample_prediction.cpu())\n",
    "else:\n",
    "    view_classify(sample_test_image, 2 ** sample_prediction)"
   ]
  },
  {
   "cell_type": "markdown",
   "metadata": {},
   "source": [
    "### 2. This one is good, but what is the overall performance?"
   ]
  },
  {
   "cell_type": "code",
   "execution_count": 18,
   "metadata": {},
   "outputs": [],
   "source": [
    "def predict_with_pytorch(model, input_data):\n",
    "    model.eval()\n",
    "    label_predicted_all = []\n",
    "\n",
    "    label_predicted_one_hot = model(input_data)\n",
    "    _, label_predicted_integer = torch.max(label_predicted_one_hot.data, 1)\n",
    "    \n",
    "    for current_prediction in label_predicted_integer:\n",
    "        label_predicted_all.append(current_prediction.detach().cpu().numpy().item())\n",
    "\n",
    "    return label_predicted_all    "
   ]
  },
  {
   "cell_type": "code",
   "execution_count": 19,
   "metadata": {},
   "outputs": [
    {
     "name": "stdout",
     "output_type": "stream",
     "text": [
      "Accuracy: 93.10000000000001 %\n"
     ]
    }
   ],
   "source": [
    "if cuda:\n",
    "    test_label_predicted = predict_with_pytorch(our_CNN, image_test_torch.cuda())\n",
    "else:\n",
    "    test_label_predicted = predict_with_pytorch(our_CNN, image_test_torch)\n",
    "\n",
    "accuracy = accuracy_score(label_test, test_label_predicted)\n",
    "\n",
    "print(\"Accuracy:\", accuracy * 100, \"%\")"
   ]
  },
  {
   "cell_type": "markdown",
   "metadata": {},
   "source": [
    "### 3. Lastly, can I have a more intuitive (and cooler) way to visualize the performance?\n",
    "\n",
    "### Yes! The answer is a [confusion matrix](https://en.wikipedia.org/wiki/Confusion_matrix)! "
   ]
  },
  {
   "cell_type": "code",
   "execution_count": 20,
   "metadata": {},
   "outputs": [
    {
     "data": {
      "image/png": "[encoded data removed]",
      "text/plain": [
       "<Figure size 1250x1250 with 2 Axes>"
      ]
     },
     "metadata": {
      "needs_background": "light"
     },
     "output_type": "display_data"
    }
   ],
   "source": [
    "CM = confusion_matrix(label_test, test_label_predicted)\n",
    "\n",
    "plt.figure(figsize = (5,5), dpi = 250)\n",
    "sns.set(font_scale = 0.5)\n",
    "sns.heatmap(CM, annot = True, annot_kws = {\"size\": 5})\n",
    "plt.ylim([0, 10]);\n",
    "plt.ylabel('True labels');\n",
    "plt.xlabel('predicted labels');"
   ]
  }
 ],
 "metadata": {
  "kernelspec": {
   "display_name": "[RR (python3.7)]",
   "language": "python",
   "name": "rr"
  },
  "language_info": {
   "codemirror_mode": {
    "name": "ipython",
    "version": 3
   },
   "file_extension": ".py",
   "mimetype": "text/x-python",
   "name": "python",
   "nbconvert_exporter": "python",
   "pygments_lexer": "ipython3",
   "version": "3.7.5"
  }
 },
 "nbformat": 4,
 "nbformat_minor": 4
}
