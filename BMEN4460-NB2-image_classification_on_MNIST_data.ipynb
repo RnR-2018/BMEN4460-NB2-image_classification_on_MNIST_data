{
 "cells": [
  {
   "cell_type": "markdown",
   "metadata": {},
   "source": [
    "# Simple Image Classification Using the MNIST Dataset\n",
    "Nanyan \"Rosalie\" Zhu and Chen \"Raphael\" Liu\n",
    "\n",
    "This notebook belongs to this repository [\"RnR-2018/BMEN4460-NB2-image_classification_on_MNIST_data\"](https://github.com/RnR-2018/BMEN4460-NB2-image_classification_on_MNIST_data) and its parent repository [\"RnR-2018/Deep-learning-with-PyTorch-and-GCP\"](https://github.com/RnR-2018/Deep-learning-with-PyTorch-and-GCP).\n",
    "\n",
    "This notebook is inspired by and largely adapted from [this GitHub repository](https://github.com/jkotra/mnist-pytorch)."
   ]
  },
  {
   "cell_type": "markdown",
   "metadata": {},
   "source": [
    "### Import the necessary packages."
   ]
  },
  {
   "cell_type": "code",
   "execution_count": 1,
   "metadata": {},
   "outputs": [],
   "source": [
    "import os\n",
    "import pandas as pd\n",
    "import numpy as np\n",
    "import matplotlib.pyplot as plt\n",
    "import seaborn as sns\n",
    "\n",
    "import torch\n",
    "import torch.nn as nn\n",
    "import torch.nn.functional as F\n",
    "from torch.optim import Adam, SGD\n",
    "from torch.utils.data import TensorDataset, DataLoader\n",
    "\n",
    "import tensorflow.keras.datasets.mnist as MNIST\n",
    "\n",
    "from sklearn.model_selection import train_test_split\n",
    "from sklearn.metrics import confusion_matrix, accuracy_score\n",
    "import warnings"
   ]
  },
  {
   "cell_type": "markdown",
   "metadata": {},
   "source": [
    "### Check GPU availability (should be False if you run the CPU VM and True if you run the GPU VM)."
   ]
  },
  {
   "cell_type": "code",
   "execution_count": 2,
   "metadata": {},
   "outputs": [
    {
     "name": "stdout",
     "output_type": "stream",
     "text": [
      "GPU available: True\n"
     ]
    }
   ],
   "source": [
    "cuda = torch.cuda.is_available()\n",
    "print(\"GPU available:\", cuda)"
   ]
  },
  {
   "cell_type": "markdown",
   "metadata": {},
   "source": [
    "### Set the random seed for reproducibility.\n",
    "\n",
    "The random seed helps to make sure that the model parameter initialization, sequence of random shuffling, and most other nondeterministic operations are kept the same each time you run this notebook."
   ]
  },
  {
   "cell_type": "code",
   "execution_count": 3,
   "metadata": {},
   "outputs": [],
   "source": [
    "torch.manual_seed(4460)\n",
    "np.random.seed(4460)"
   ]
  },
  {
   "cell_type": "markdown",
   "metadata": {},
   "source": [
    "### Download the MNIST handwritten digits dataset.\n",
    "\n",
    "It is designed to have a 60k-image train set and a 10k-image test set. We are not going to use all of them for this tutorial because that will eat up quite a bit of memory."
   ]
  },
  {
   "cell_type": "code",
   "execution_count": 4,
   "metadata": {},
   "outputs": [],
   "source": [
    "(image_MNIST_train_set, label_MNIST_train_set), (image_MNIST_test_set, label_MNIST_test_set) = MNIST.load_data()"
   ]
  },
  {
   "cell_type": "markdown",
   "metadata": {},
   "source": [
    "#### Display some sample images and labels."
   ]
  },
  {
   "cell_type": "code",
   "execution_count": 5,
   "metadata": {},
   "outputs": [
    {
     "data": {
      "image/png": "[encoded data removed]",
      "text/plain": [
       "<Figure size 400x600 with 24 Axes>"
      ]
     },
     "metadata": {},
     "output_type": "display_data"
    }
   ],
   "source": [
    "row = 4\n",
    "col = 6\n",
    "fig = plt.figure(figsize = (row, col), dpi = 100)\n",
    "\n",
    "for image_index in range(1, row * col + 1):\n",
    "    image = image_MNIST_test_set[image_index, :, :]\n",
    "    ax = fig.add_subplot(row, col, image_index)\n",
    "    ax.set_xticks([])\n",
    "    ax.set_yticks([])\n",
    "    ax.title.set_text(str(label_MNIST_test_set[image_index]))\n",
    "    plt.imshow(image, cmap = 'gray')\n",
    "\n",
    "plt.show()"
   ]
  },
  {
   "cell_type": "markdown",
   "metadata": {},
   "source": [
    "### We have 70k images in total, but we will only use a subset of it for this tutorial.\n",
    "\n",
    "#### Let's just use what MNIST originally allocated as the test set as our entire dataset (N = 10k) and perform a 8:1:1 train:validation:test split."
   ]
  },
  {
   "cell_type": "code",
   "execution_count": 6,
   "metadata": {},
   "outputs": [
    {
     "name": "stdout",
     "output_type": "stream",
     "text": [
      "Images: train 8000, validation 1000, test 1000 \n",
      "Labels: train 8000, validation 1000, test 1000\n"
     ]
    }
   ],
   "source": [
    "# Split the 10000 MNIST test set into our train set (N = 8e3) and validation+test set (N = 2e3) at an 8:2 ratio.\n",
    "indices_train, indices_validation_and_test = train_test_split(range(len(image_MNIST_test_set)), test_size = 0.2)\n",
    "image_train = image_MNIST_test_set[indices_train, :, :]\n",
    "label_train = label_MNIST_test_set[indices_train]\n",
    "image_validation_and_test = image_MNIST_test_set[indices_validation_and_test, :, :]\n",
    "label_validation_and_test = label_MNIST_test_set[indices_validation_and_test]\n",
    "\n",
    "# Split the validation+test set into the validation set (N = 5e3) and the test set (N = 5e3).\n",
    "# Note that we are using the package \"train_test_split\" but what we are actually doing here is validation test split.\n",
    "indices_validation, indices_test = train_test_split(range(len(image_validation_and_test)), test_size = 0.5)\n",
    "image_validation = image_validation_and_test[indices_validation, :, :]\n",
    "label_validation = label_validation_and_test[indices_validation]\n",
    "image_test = image_validation_and_test[indices_test, :, :]\n",
    "label_test = label_validation_and_test[indices_test]\n",
    "\n",
    "print('Images: train %d, validation %d, test %d \\nLabels: train %d, validation %d, test %d' % \\\n",
    "      (len(image_train), len(image_validation), len(image_test), len(label_train), len(label_validation), len(label_test)))"
   ]
  },
  {
   "cell_type": "markdown",
   "metadata": {},
   "source": [
    "### Reformat the images and labels so that they can be fed into the data loader.\n",
    "Normally you would construct a validation loader and a test loader similar to how we construct the train loader, but for this case since the validation and test set only consists of 1000 28$\\times$28 images each, we can just get away with not using a data loader at all."
   ]
  },
  {
   "cell_type": "code",
   "execution_count": 7,
   "metadata": {},
   "outputs": [],
   "source": [
    "image_train_torch = torch.from_numpy(image_train).type(torch.FloatTensor).view(-1, 1, 28, 28)\n",
    "label_train_torch = torch.from_numpy(label_train).type(torch.LongTensor)\n",
    "\n",
    "image_validation_torch = torch.from_numpy(image_validation).type(torch.FloatTensor).view(-1, 1, 28, 28)\n",
    "label_validation_torch = torch.from_numpy(label_validation).type(torch.LongTensor)\n",
    "\n",
    "image_test_torch = torch.from_numpy(image_test).type(torch.FloatTensor).view(-1, 1, 28, 28)\n",
    "label_test_torch = torch.from_numpy(label_test).type(torch.LongTensor)\n",
    "\n",
    "train_data = TensorDataset(image_train_torch, label_train_torch)\n",
    "train_loader = DataLoader(train_data, batch_size = 1000)"
   ]
  },
  {
   "cell_type": "markdown",
   "metadata": {},
   "source": [
    "### Build our classification network.\n",
    "\n",
    "This architecture comes from [this GitHub repository](https://github.com/floydhub/mnist).\n",
    "\n",
    "<img src=\"data/MNIST_CNN.png\" width=\"1200\" align=\"center\"/>"
   ]
  },
  {
   "cell_type": "code",
   "execution_count": 8,
   "metadata": {},
   "outputs": [
    {
     "name": "stdout",
     "output_type": "stream",
     "text": [
      "Model(\n",
      "  (conv1): Conv2d(1, 10, kernel_size=(5, 5), stride=(1, 1))\n",
      "  (conv2): Conv2d(10, 20, kernel_size=(5, 5), stride=(1, 1))\n",
      "  (fc1): Linear(in_features=320, out_features=50, bias=True)\n",
      "  (fc2): Linear(in_features=50, out_features=10, bias=True)\n",
      ")\n"
     ]
    }
   ],
   "source": [
    "# Formula to calculate shape as we go through layer by layer = [(X - F + 2P)/S] + 1\n",
    "# Here,\n",
    "# X = Width / Height\n",
    "# F = Kernel size\n",
    "# P = Padding\n",
    "# S = Strides (default = 1)\n",
    "\n",
    "# Our input to the first layer is going to be [batchsize, 1, 28, 28]\n",
    "# substitute, =[(28 - 5 + 2(0))/1] + 1\n",
    "#             =[(23)/1] + 1\n",
    "#             =23 + 1\n",
    "#             =24\n",
    "\n",
    "\n",
    "class Model(nn.Module):\n",
    "    '''ConvNet -> Max_Pool -> RELU -> ConvNet -> Max_Pool -> RELU -> FC -> RELU -> FC -> SOFTMAX'''\n",
    "    def __init__(self):\n",
    "        '''Define model modules.'''\n",
    "        super(Model, self).__init__()\n",
    "        self.conv1 = nn.Conv2d(1, 10, 5, 1)\n",
    "        self.conv2 = nn.Conv2d(10, 20, 5, 1)\n",
    "        self.fc1 = nn.Linear(4 * 4 * 20, 50)\n",
    "        self.fc2 = nn.Linear(50, 10)\n",
    "\n",
    "    def forward(self, x):\n",
    "        '''Define the model architecture (the sequence to place the model modules).'''\n",
    "        x = F.relu(self.conv1(x))\n",
    "        x = F.max_pool2d(x, 2, 2)\n",
    "        x = F.relu(self.conv2(x))\n",
    "        x = F.max_pool2d(x, 2, 2)\n",
    "        x = x.view(-1, 4 * 4 * 20)\n",
    "        x = F.relu(self.fc1(x))\n",
    "        x = self.fc2(x)\n",
    "        return F.log_softmax(x, dim = 1)\n",
    "\n",
    "our_CNN = Model()\n",
    "\n",
    "# If GPU available, move the model to GPU.\n",
    "if cuda:\n",
    "    our_CNN.cuda()\n",
    "\n",
    "print(our_CNN)"
   ]
  },
  {
   "cell_type": "markdown",
   "metadata": {},
   "source": [
    "#### Define our optimizer."
   ]
  },
  {
   "cell_type": "code",
   "execution_count": 9,
   "metadata": {},
   "outputs": [],
   "source": [
    "# define our optimizer\n",
    "optimizer = SGD(our_CNN.parameters(), lr = 0.001)"
   ]
  },
  {
   "cell_type": "markdown",
   "metadata": {},
   "source": [
    "#### Train our CNN for classification."
   ]
  },
  {
   "cell_type": "code",
   "execution_count": 10,
   "metadata": {},
   "outputs": [
    {
     "name": "stdout",
     "output_type": "stream",
     "text": [
      "Epoch: 0 | train_loss: 4.403899818658829 | validation_loss: 2.6730810403823853\n",
      "Epoch: 1 | train_loss: 1.7083696126937866 | validation_loss: 1.6433492749929428\n",
      "Epoch: 2 | train_loss: 1.3365810364484787 | validation_loss: 1.2830408811569214\n",
      "Epoch: 3 | train_loss: 1.0974992960691452 | validation_loss: 1.0519820526242256\n",
      "Epoch: 4 | train_loss: 0.9567211121320724 | validation_loss: 0.915959857404232\n",
      "Epoch: 5 | train_loss: 0.850132405757904 | validation_loss: 0.8111384138464928\n",
      "Epoch: 6 | train_loss: 0.7454956397414207 | validation_loss: 0.714482806622982\n",
      "Epoch: 7 | train_loss: 0.6717633306980133 | validation_loss: 0.6481043621897697\n",
      "Epoch: 8 | train_loss: 0.615688219666481 | validation_loss: 0.5973909199237823\n",
      "Epoch: 9 | train_loss: 0.5698165148496628 | validation_loss: 0.5566092282533646\n",
      "Epoch: 10 | train_loss: 0.5337785445153713 | validation_loss: 0.5247953310608864\n",
      "Epoch: 11 | train_loss: 0.5034334622323513 | validation_loss: 0.49782513827085495\n",
      "Epoch: 12 | train_loss: 0.47696466743946075 | validation_loss: 0.47405776754021645\n",
      "Epoch: 13 | train_loss: 0.4545208178460598 | validation_loss: 0.45408397912979126\n",
      "Epoch: 14 | train_loss: 0.4350089691579342 | validation_loss: 0.4365893639624119\n",
      "Epoch: 15 | train_loss: 0.41768039017915726 | validation_loss: 0.4210011884570122\n",
      "Epoch: 16 | train_loss: 0.4022911749780178 | validation_loss: 0.4072456955909729\n",
      "Epoch: 17 | train_loss: 0.38817718997597694 | validation_loss: 0.39484066143631935\n",
      "Epoch: 18 | train_loss: 0.37517042830586433 | validation_loss: 0.3834320195019245\n",
      "Epoch: 19 | train_loss: 0.36311423406004906 | validation_loss: 0.37312955781817436\n",
      "Epoch: 20 | train_loss: 0.35208413004875183 | validation_loss: 0.36347851157188416\n",
      "Epoch: 21 | train_loss: 0.3419981747865677 | validation_loss: 0.35463084653019905\n",
      "Epoch: 22 | train_loss: 0.33268506824970245 | validation_loss: 0.34629182144999504\n",
      "Epoch: 23 | train_loss: 0.3240630030632019 | validation_loss: 0.3385370783507824\n",
      "Epoch: 24 | train_loss: 0.31594596803188324 | validation_loss: 0.3312500901520252\n",
      "Epoch: 25 | train_loss: 0.3082643114030361 | validation_loss: 0.3242555558681488\n",
      "Epoch: 26 | train_loss: 0.3011559024453163 | validation_loss: 0.31780511513352394\n",
      "Epoch: 27 | train_loss: 0.2944308705627918 | validation_loss: 0.31178680434823036\n",
      "Epoch: 28 | train_loss: 0.28800008073449135 | validation_loss: 0.3058762103319168\n",
      "Epoch: 29 | train_loss: 0.2818519566208124 | validation_loss: 0.3004823997616768\n",
      "Epoch: 30 | train_loss: 0.2760190851986408 | validation_loss: 0.2953873798251152\n",
      "Epoch: 31 | train_loss: 0.2704239524900913 | validation_loss: 0.290493194013834\n",
      "Epoch: 32 | train_loss: 0.26514506340026855 | validation_loss: 0.2858879342675209\n",
      "Epoch: 33 | train_loss: 0.2600610852241516 | validation_loss: 0.28124047443270683\n",
      "Epoch: 34 | train_loss: 0.25513010658323765 | validation_loss: 0.2768898159265518\n",
      "Epoch: 35 | train_loss: 0.25041276402771473 | validation_loss: 0.27285803854465485\n",
      "Epoch: 36 | train_loss: 0.2459120824933052 | validation_loss: 0.26883452385663986\n",
      "Epoch: 37 | train_loss: 0.24161635152995586 | validation_loss: 0.26502715423703194\n",
      "Epoch: 38 | train_loss: 0.23742767609655857 | validation_loss: 0.2612842246890068\n",
      "Epoch: 39 | train_loss: 0.2334182970225811 | validation_loss: 0.25779253616929054\n",
      "Epoch: 40 | train_loss: 0.22956997901201248 | validation_loss: 0.254476610571146\n",
      "Epoch: 41 | train_loss: 0.22583184204995632 | validation_loss: 0.2512942813336849\n",
      "Epoch: 42 | train_loss: 0.22232252173125744 | validation_loss: 0.24833721108734608\n",
      "Epoch: 43 | train_loss: 0.21888103894889355 | validation_loss: 0.24532206542789936\n",
      "Epoch: 44 | train_loss: 0.2155669629573822 | validation_loss: 0.242410346865654\n",
      "Epoch: 45 | train_loss: 0.21236830577254295 | validation_loss: 0.23959731496870518\n",
      "Epoch: 46 | train_loss: 0.20927895419299603 | validation_loss: 0.2368257511407137\n",
      "Epoch: 47 | train_loss: 0.20633382350206375 | validation_loss: 0.2340481709688902\n",
      "Epoch: 48 | train_loss: 0.20344093814492226 | validation_loss: 0.23139924928545952\n",
      "Epoch: 49 | train_loss: 0.2007142659276724 | validation_loss: 0.2288332674652338\n"
     ]
    }
   ],
   "source": [
    "EPOCHS = 50\n",
    "\n",
    "train_epoch_loss = []\n",
    "validation_epoch_loss = []\n",
    "\n",
    "for epoch in range(EPOCHS):\n",
    "    train_loss = []\n",
    "    validation_loss = []\n",
    "\n",
    "    for batch_index, (train_image, train_label) in enumerate(train_loader):\n",
    "        # If GPU is available, move the data to the GPU for faster computation.\n",
    "        if cuda:\n",
    "            #######################################################\n",
    "            ####################### Train #########################\n",
    "            #######################################################\n",
    "            # Set the model to train mode so that the parameters can be updated.\n",
    "            our_CNN.train()\n",
    "\n",
    "            train_label_predicted = our_CNN(train_image.cuda())\n",
    "\n",
    "            # compute the loss\n",
    "            loss = F.cross_entropy(train_label_predicted, train_label.cuda())\n",
    "            train_loss.append(loss.cpu().data.item())\n",
    "\n",
    "            # reset the gradient \n",
    "            optimizer.zero_grad()\n",
    "            # backpropagate the loss\n",
    "            loss.backward()\n",
    "            # update the parameters\n",
    "            optimizer.step()\n",
    "\n",
    "            #######################################################\n",
    "            ###################### Validation #####################\n",
    "            #######################################################\n",
    "            # Set the model to evaluation mode so that parameters are fixed.\n",
    "            our_CNN.eval()\n",
    "\n",
    "            validation_label_predicted = our_CNN(image_validation_torch.cuda())\n",
    "\n",
    "            loss = F.cross_entropy(validation_label_predicted, label_validation_torch.cuda())\n",
    "            validation_loss.append(loss.cpu().data.item())\n",
    "        \n",
    "        # If GPU is not available.\n",
    "        else:\n",
    "            #######################################################\n",
    "            ####################### Train #########################\n",
    "            #######################################################\n",
    "            # Set the model to train mode so that the parameters can be updated.\n",
    "            our_CNN.train()\n",
    "\n",
    "            train_label_predicted = our_CNN(train_image)\n",
    "\n",
    "            # compute the loss\n",
    "            loss = F.cross_entropy(train_label_predicted, train_label)\n",
    "            train_loss.append(loss.cpu().data.item())\n",
    "\n",
    "            # reset the gradient\n",
    "            optimizer.zero_grad()\n",
    "            # backpropagate the loss\n",
    "            loss.backward()\n",
    "            # update the parameters\n",
    "            optimizer.step()\n",
    "\n",
    "            #######################################################\n",
    "            ###################### Validation #####################\n",
    "            #######################################################\n",
    "            # Set the model to evaluation mode so that parameters are fixed.\n",
    "            our_CNN.eval()\n",
    "\n",
    "            validation_label_predicted = our_CNN(image_validation_torch)\n",
    "\n",
    "            loss = F.cross_entropy(validation_label_predicted, label_validation_torch)\n",
    "            validation_loss.append(loss.cpu().data.item())\n",
    "\n",
    "    train_epoch_loss.append(np.mean(train_loss))\n",
    "    validation_epoch_loss.append(np.mean(validation_loss))\n",
    "    \n",
    "    # save models\n",
    "    os.makedirs('./saved_models', exist_ok = True)\n",
    "    torch.save(our_CNN.state_dict(), './saved_models/checkpoint_epoch_%s.pth' % (epoch))\n",
    "\n",
    "    print(\"Epoch: {} | train_loss: {} | validation_loss: {}\".format(epoch, train_epoch_loss[-1], validation_epoch_loss[-1]))"
   ]
  },
  {
   "cell_type": "markdown",
   "metadata": {},
   "source": [
    "### Explanation on train, validation and test split.\n",
    "While you are waiting for your CNN to be trained, let's look back on what it means to and why we need to perform a train/validation/test split.\n",
    "\n",
    "- The train set is quite straightforward: you allocate a portion of the data to train your model.\n",
    "- The test set is a set of data you keep to yourself and make sure the model doesn't have access to. You need that set of data to evaluate the performance of your model once it is ready to be challenged.\n",
    "- The validation set is a set of data you quiz your model before it is ready for the \"final exam\" given by the test set. It gives you an idea how well the model is likely to perform on an unseen set of data.\n",
    "\n",
    "In an ideal case, you design and train your model using the train data, adjust the hyperparameters (learning rate, etc.) and decide on when to stop the training (either by adjusting # epoch or by setting automated criteria for early stop) along with other intelligent approaches to make sure the model is likely to generalize well, and then test its performance on the test data."
   ]
  },
  {
   "cell_type": "markdown",
   "metadata": {},
   "source": [
    "#### Draw the train loss and validation loss curves."
   ]
  },
  {
   "cell_type": "code",
   "execution_count": 11,
   "metadata": {},
   "outputs": [
    {
     "data": {
      "image/png": "[encoded data removed]",
      "text/plain": [
       "<Figure size 1000x400 with 1 Axes>"
      ]
     },
     "metadata": {
      "needs_background": "light"
     },
     "output_type": "display_data"
    }
   ],
   "source": [
    "plt.figure(figsize = (5, 2), dpi = 200)\n",
    "plt.plot(train_epoch_loss, '-o', label = 'training loss', markersize = 3)\n",
    "plt.plot(validation_epoch_loss, '-o', label = 'validation loss', markersize = 3)\n",
    "plt.legend(loc = 'upper right');"
   ]
  },
  {
   "cell_type": "markdown",
   "metadata": {},
   "source": [
    "#### Let's check at which epoch the model performs the best on the validation set."
   ]
  },
  {
   "cell_type": "code",
   "execution_count": 12,
   "metadata": {},
   "outputs": [
    {
     "name": "stdout",
     "output_type": "stream",
     "text": [
      "best epoch:  49\n"
     ]
    }
   ],
   "source": [
    "best_epoch = np.argmin(validation_epoch_loss)\n",
    "print('best epoch: ', best_epoch)"
   ]
  },
  {
   "cell_type": "markdown",
   "metadata": {},
   "source": [
    "#### We will call that as our best model and use that for inference on the test set."
   ]
  },
  {
   "cell_type": "code",
   "execution_count": 13,
   "metadata": {},
   "outputs": [
    {
     "name": "stdout",
     "output_type": "stream",
     "text": [
      "odict_keys(['conv1.weight', 'conv1.bias', 'conv2.weight', 'conv2.bias', 'fc1.weight', 'fc1.bias', 'fc2.weight', 'fc2.bias'])\n"
     ]
    },
    {
     "data": {
      "text/plain": [
       "<All keys matched successfully>"
      ]
     },
     "execution_count": 13,
     "metadata": {},
     "output_type": "execute_result"
    }
   ],
   "source": [
    "state_dict = torch.load('./saved_models/checkpoint_epoch_%s.pth' % (best_epoch))\n",
    "print(state_dict.keys())\n",
    "our_CNN.load_state_dict(state_dict)"
   ]
  },
  {
   "cell_type": "markdown",
   "metadata": {},
   "source": [
    "## Predict the labels on the test set.\n",
    "\n",
    "### 1. Do that on a sample image."
   ]
  },
  {
   "cell_type": "code",
   "execution_count": 14,
   "metadata": {},
   "outputs": [],
   "source": [
    "def view_classify(image, probabilities, version = \"MNIST\"):\n",
    "    ''' Function for viewing an image and it's predicted classes.\n",
    "    '''\n",
    "    probabilities = probabilities.data.numpy().squeeze()\n",
    "\n",
    "    fig, (ax1, ax2) = plt.subplots(figsize = (6, 9), ncols = 2)\n",
    "    ax1.imshow(image.resize_(1, 28, 28).numpy().squeeze(), cmap = 'gray')\n",
    "    ax1.set_title('Original Image')\n",
    "    ax1.axis('off')\n",
    "    ax2.bar(np.arange(10), probabilities)\n",
    "    ax2.set_aspect(10)\n",
    "    ax2.set_xticks(np.arange(10))\n",
    "        \n",
    "    ax2.set_title('Class Probability')\n",
    "    ax2.set_ylim(0, 1.1)\n",
    "\n",
    "    plt.tight_layout()"
   ]
  },
  {
   "cell_type": "code",
   "execution_count": 15,
   "metadata": {},
   "outputs": [
    {
     "data": {
      "text/plain": [
       "torch.Size([1000, 1, 28, 28])"
      ]
     },
     "execution_count": 15,
     "metadata": {},
     "output_type": "execute_result"
    }
   ],
   "source": [
    "image_test_torch.shape"
   ]
  },
  {
   "cell_type": "code",
   "execution_count": 16,
   "metadata": {},
   "outputs": [],
   "source": [
    "our_CNN.eval()\n",
    "\n",
    "sample_test_image = image_test_torch[0, :, :, :][np.newaxis, :, :, :]\n",
    "\n",
    "if cuda:\n",
    "    sample_prediction = our_CNN(sample_test_image.cuda())\n",
    "else:\n",
    "    sample_prediction = our_CNN(sample_test_image)"
   ]
  },
  {
   "cell_type": "code",
   "execution_count": 17,
   "metadata": {},
   "outputs": [
    {
     "data": {
      "image/png": "[encoded data removed]",
      "text/plain": [
       "<Figure size 432x648 with 2 Axes>"
      ]
     },
     "metadata": {
      "needs_background": "light"
     },
     "output_type": "display_data"
    }
   ],
   "source": [
    "warnings.filterwarnings(\"ignore\")\n",
    "\n",
    "if cuda:\n",
    "    view_classify(sample_test_image, 2 ** sample_prediction.cpu())\n",
    "else:\n",
    "    view_classify(sample_test_image, 2 ** sample_prediction)"
   ]
  },
  {
   "cell_type": "markdown",
   "metadata": {},
   "source": [
    "### 2. This one is good, but what is the overall performance?"
   ]
  },
  {
   "cell_type": "code",
   "execution_count": 18,
   "metadata": {},
   "outputs": [],
   "source": [
    "def predict_with_pytorch(model, input_data):\n",
    "    model.eval()\n",
    "    label_predicted_all = []\n",
    "\n",
    "    label_predicted_one_hot = model(input_data)\n",
    "    label_predicted_probability, label_predicted_index = torch.max(label_predicted_one_hot.data, 1)\n",
    "    \n",
    "    for current_prediction in label_predicted_index:\n",
    "        label_predicted_all.append(current_prediction.detach().cpu().numpy().item())\n",
    "\n",
    "    return label_predicted_all"
   ]
  },
  {
   "cell_type": "code",
   "execution_count": 19,
   "metadata": {},
   "outputs": [
    {
     "name": "stdout",
     "output_type": "stream",
     "text": [
      "Accuracy: 92.9 %\n"
     ]
    }
   ],
   "source": [
    "if cuda:\n",
    "    test_label_predicted = predict_with_pytorch(our_CNN, image_test_torch.cuda())\n",
    "else:\n",
    "    test_label_predicted = predict_with_pytorch(our_CNN, image_test_torch)\n",
    "\n",
    "accuracy = accuracy_score(label_test, test_label_predicted)\n",
    "\n",
    "print(\"Accuracy:\", accuracy * 100, \"%\")"
   ]
  },
  {
   "cell_type": "markdown",
   "metadata": {},
   "source": [
    "### 3. Lastly, can I have a more intuitive (and cooler) way to visualize the performance?\n",
    "\n",
    "### Yes! The answer is a [confusion matrix](https://en.wikipedia.org/wiki/Confusion_matrix)! "
   ]
  },
  {
   "cell_type": "code",
   "execution_count": 20,
   "metadata": {},
   "outputs": [
    {
     "data": {
      "image/png": "[encoded data removed]",
      "text/plain": [
       "<Figure size 1250x1250 with 2 Axes>"
      ]
     },
     "metadata": {
      "needs_background": "light"
     },
     "output_type": "display_data"
    }
   ],
   "source": [
    "CM = confusion_matrix(label_test, test_label_predicted)\n",
    "\n",
    "plt.figure(figsize = (5,5), dpi = 250)\n",
    "sns.set(font_scale = 0.5)\n",
    "sns.heatmap(CM, annot = True, annot_kws = {\"size\": 5})\n",
    "plt.ylim([0, 10]);\n",
    "plt.ylabel('True labels');\n",
    "plt.xlabel('predicted labels');"
   ]
  }
 ],
 "metadata": {
  "kernelspec": {
   "display_name": "[RR (python3.7)]",
   "language": "python",
   "name": "rr"
  },
  "language_info": {
   "codemirror_mode": {
    "name": "ipython",
    "version": 3
   },
   "file_extension": ".py",
   "mimetype": "text/x-python",
   "name": "python",
   "nbconvert_exporter": "python",
   "pygments_lexer": "ipython3",
   "version": "3.7.5"
  }
 },
 "nbformat": 4,
 "nbformat_minor": 4
}
